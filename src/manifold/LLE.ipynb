{
 "cells": [
  {
   "cell_type": "code",
   "execution_count": 123,
   "metadata": {},
   "outputs": [],
   "source": [
    "from io import BytesIO\n",
    "\n",
    "import boto3\n",
    "from botocore import UNSIGNED\n",
    "from botocore.config import Config\n",
    "from PIL import Image\n",
    "import numpy as np\n",
    "import matplotlib.pyplot as plt\n",
    "import pandas as pd\n",
    "import plotly.express as px\n",
    "\n",
    "pd.set_option(\"display.max_columns\", None)"
   ]
  },
  {
   "cell_type": "code",
   "execution_count": 155,
   "metadata": {},
   "outputs": [
    {
     "data": {
      "text/html": [
       "<div>\n",
       "<style scoped>\n",
       "    .dataframe tbody tr th:only-of-type {\n",
       "        vertical-align: middle;\n",
       "    }\n",
       "\n",
       "    .dataframe tbody tr th {\n",
       "        vertical-align: top;\n",
       "    }\n",
       "\n",
       "    .dataframe thead th {\n",
       "        text-align: right;\n",
       "    }\n",
       "</style>\n",
       "<table border=\"1\" class=\"dataframe\">\n",
       "  <thead>\n",
       "    <tr style=\"text-align: right;\">\n",
       "      <th></th>\n",
       "      <th>iauname</th>\n",
       "      <th>smooth</th>\n",
       "      <th>featured</th>\n",
       "      <th>artifact</th>\n",
       "      <th>label</th>\n",
       "    </tr>\n",
       "  </thead>\n",
       "  <tbody>\n",
       "    <tr>\n",
       "      <th>0</th>\n",
       "      <td>J094651.40-010228.5</td>\n",
       "      <td>0.285737</td>\n",
       "      <td>0.682081</td>\n",
       "      <td>0.032182</td>\n",
       "      <td>1</td>\n",
       "    </tr>\n",
       "    <tr>\n",
       "      <th>1</th>\n",
       "      <td>J094630.85-004554.5</td>\n",
       "      <td>0.493212</td>\n",
       "      <td>0.455216</td>\n",
       "      <td>0.051572</td>\n",
       "      <td>0</td>\n",
       "    </tr>\n",
       "    <tr>\n",
       "      <th>2</th>\n",
       "      <td>J094631.59-005917.7</td>\n",
       "      <td>0.899878</td>\n",
       "      <td>0.051691</td>\n",
       "      <td>0.048431</td>\n",
       "      <td>0</td>\n",
       "    </tr>\n",
       "    <tr>\n",
       "      <th>3</th>\n",
       "      <td>J094744.18-004013.4</td>\n",
       "      <td>0.772967</td>\n",
       "      <td>0.099507</td>\n",
       "      <td>0.127526</td>\n",
       "      <td>0</td>\n",
       "    </tr>\n",
       "    <tr>\n",
       "      <th>4</th>\n",
       "      <td>J094751.74-003242.0</td>\n",
       "      <td>0.529303</td>\n",
       "      <td>0.409423</td>\n",
       "      <td>0.061275</td>\n",
       "      <td>0</td>\n",
       "    </tr>\n",
       "  </tbody>\n",
       "</table>\n",
       "</div>"
      ],
      "text/plain": [
       "               iauname    smooth  featured  artifact  label\n",
       "0  J094651.40-010228.5  0.285737  0.682081  0.032182      1\n",
       "1  J094630.85-004554.5  0.493212  0.455216  0.051572      0\n",
       "2  J094631.59-005917.7  0.899878  0.051691  0.048431      0\n",
       "3  J094744.18-004013.4  0.772967  0.099507  0.127526      0\n",
       "4  J094751.74-003242.0  0.529303  0.409423  0.061275      0"
      ]
     },
     "execution_count": 155,
     "metadata": {},
     "output_type": "execute_result"
    }
   ],
   "source": [
    "# Read and process labels file\n",
    "labels = pd.read_csv(\"../../data/gz_decals_auto_posteriors_cropped.csv\")\n",
    "\n",
    "labels = labels[[\n",
    "    \"iauname\", \"smooth-or-featured_smooth_fraction\",\n",
    "    \"smooth-or-featured_featured-or-disk_fraction\", \"smooth-or-featured_artifact_fraction\"\n",
    "]]\n",
    "\n",
    "labels.columns = [\"iauname\", \"smooth\", \"featured\", \"artifact\"]\n",
    "\n",
    "labels[\"label\"] = labels.values[:, 1:].argmax(axis=1)\n",
    "\n",
    "labels.head()"
   ]
  },
  {
   "cell_type": "code",
   "execution_count": 156,
   "metadata": {},
   "outputs": [
    {
     "data": {
      "text/plain": [
       "label\n",
       "0    58420\n",
       "1    23904\n",
       "2      962\n",
       "Name: count, dtype: int64"
      ]
     },
     "execution_count": 156,
     "metadata": {},
     "output_type": "execute_result"
    }
   ],
   "source": [
    "labels[\"label\"].value_counts()"
   ]
  },
  {
   "cell_type": "code",
   "execution_count": 157,
   "metadata": {},
   "outputs": [],
   "source": [
    "all_labels = labels[\"label\"].unique()\n",
    "\n",
    "IMAGES_PER_LABEL = 400\n",
    "\n",
    "files_for_each_label = dict()\n",
    "\n",
    "for label in all_labels:\n",
    "    files_for_each_label[label] = labels[labels[\"label\"] == label].iloc[:400][\"iauname\"]"
   ]
  },
  {
   "cell_type": "code",
   "execution_count": 161,
   "metadata": {},
   "outputs": [
    {
     "data": {
      "text/plain": [
       "(1200, 5)"
      ]
     },
     "execution_count": 161,
     "metadata": {},
     "output_type": "execute_result"
    }
   ],
   "source": [
    "labels = labels[\n",
    "    labels[\"iauname\"].isin(\n",
    "        np.hstack([files_for_each_label[label] for label in all_labels])\n",
    "    )\n",
    "]\n",
    "labels.shape"
   ]
  },
  {
   "cell_type": "code",
   "execution_count": 162,
   "metadata": {},
   "outputs": [],
   "source": [
    "s3 = boto3.client('s3', config=Config(signature_version=UNSIGNED))\n",
    "\n",
    "bucket_name = \"galaxy-morph-manifold-learning-processed\"\n",
    "\n",
    "# paginator = s3.get_paginator('list_objects_v2')\n",
    "# page_iterator = paginator.paginate(Bucket=bucket_name)\n",
    "\n",
    "# all_files = []\n",
    "# for page in page_iterator:\n",
    "#     if 'Contents' in page:\n",
    "#         all_files.extend(page['Contents'])\n",
    "\n",
    "# print(f\"Total number of files in the bucket: {len(all_files)}\")"
   ]
  },
  {
   "cell_type": "code",
   "execution_count": 164,
   "metadata": {},
   "outputs": [
    {
     "data": {
      "text/plain": [
       "(1200, 256, 256)"
      ]
     },
     "execution_count": 164,
     "metadata": {},
     "output_type": "execute_result"
    }
   ],
   "source": [
    "images = []\n",
    "\n",
    "for filename in labels[\"iauname\"].values:\n",
    "    object_key = f\"{filename}.png\"\n",
    "\n",
    "    response = s3.get_object(Bucket=bucket_name, Key=object_key)\n",
    "    file_stream = BytesIO(response['Body'].read())\n",
    "\n",
    "    image = Image.open(file_stream)\n",
    "    image_array = np.array(image)\n",
    "\n",
    "    images.append(image_array)\n",
    "\n",
    "images = np.array(images)\n",
    "images.shape"
   ]
  },
  {
   "cell_type": "code",
   "execution_count": null,
   "metadata": {},
   "outputs": [
    {
     "data": {
      "text/plain": [
       "(1200, 256, 256)"
      ]
     },
     "execution_count": 165,
     "metadata": {},
     "output_type": "execute_result"
    }
   ],
   "source": [
    "# images = np.load(\"../../data/1200_processed_images_balanced.npy\")\n",
    "images.shape"
   ]
  },
  {
   "cell_type": "code",
   "execution_count": null,
   "metadata": {},
   "outputs": [],
   "source": [
    "# np.save(\"../../data/1200_processed_images_balanced.npy\", images)"
   ]
  },
  {
   "cell_type": "code",
   "execution_count": 167,
   "metadata": {},
   "outputs": [],
   "source": [
    "# labels = pd.read_csv(\"../../data/1k_processed_images.csv\")\n",
    "# labels.head()"
   ]
  },
  {
   "cell_type": "code",
   "execution_count": null,
   "metadata": {},
   "outputs": [],
   "source": [
    "# labels.to_csv(\"../../data/1200_processed_images_balanced.csv\", index=False)"
   ]
  },
  {
   "cell_type": "code",
   "execution_count": 179,
   "metadata": {},
   "outputs": [
    {
     "data": {
      "text/plain": [
       "(1200, 3)"
      ]
     },
     "execution_count": 179,
     "metadata": {},
     "output_type": "execute_result"
    }
   ],
   "source": [
    "from sklearn.manifold import locally_linear_embedding\n",
    "\n",
    "embedding, _ = locally_linear_embedding(\n",
    "    images.reshape(images.shape[0], images.shape[1] * images.shape[2]),\n",
    "    n_neighbors=40,\n",
    "    n_components=3,\n",
    "    random_state=42,\n",
    ")\n",
    "embedding.shape"
   ]
  },
  {
   "cell_type": "code",
   "execution_count": 180,
   "metadata": {},
   "outputs": [
    {
     "data": {
      "image/png": "[encoded data removed]",
      "text/plain": [
       "<Figure size 640x480 with 2 Axes>"
      ]
     },
     "metadata": {},
     "output_type": "display_data"
    }
   ],
   "source": [
    "plt.scatter(embedding[:, 0], embedding[:, 1], c=labels[\"label\"].values, cmap=\"Set2\", alpha=0.8)\n",
    "plt.colorbar(label=\"Labels\")\n",
    "plt.show();"
   ]
  },
  {
   "cell_type": "code",
   "execution_count": 181,
   "metadata": {},
   "outputs": [],
   "source": [
    "fig = px.scatter_3d(\n",
    "    x=embedding[:, 0],\n",
    "    y=embedding[:, 1],\n",
    "    z=embedding[:, 2],\n",
    "    color=labels[\"label\"],\n",
    "    labels={'color': 'Label'},\n",
    "    title=\"LLE\",\n",
    "    color_continuous_scale='viridis'\n",
    ")\n",
    "\n",
    "fig.update_layout(\n",
    "    scene=dict(\n",
    "        xaxis_title=f\"LLE Component 1\",\n",
    "        yaxis_title=f\"LLE Component 2\",\n",
    "        zaxis_title=f\"LLE Component 3\"\n",
    "    )\n",
    ")\n",
    "\n",
    "fig.write_html(f\"../../plots/LLE_3d_1200_processed_images_balanced.html\")"
   ]
  },
  {
   "cell_type": "code",
   "execution_count": 182,
   "metadata": {},
   "outputs": [
    {
     "data": {
      "text/plain": [
       "label\n",
       "1    400\n",
       "0    400\n",
       "2    400\n",
       "Name: count, dtype: int64"
      ]
     },
     "execution_count": 182,
     "metadata": {},
     "output_type": "execute_result"
    }
   ],
   "source": [
    "labels[\"label\"].value_counts()"
   ]
  }
 ],
 "metadata": {
  "kernelspec": {
   "display_name": "Python 3",
   "language": "python",
   "name": "python3"
  },
  "language_info": {
   "codemirror_mode": {
    "name": "ipython",
    "version": 3
   },
   "file_extension": ".py",
   "mimetype": "text/x-python",
   "name": "python",
   "nbconvert_exporter": "python",
   "pygments_lexer": "ipython3",
   "version": "3.9.0"
  }
 },
 "nbformat": 4,
 "nbformat_minor": 2
}
