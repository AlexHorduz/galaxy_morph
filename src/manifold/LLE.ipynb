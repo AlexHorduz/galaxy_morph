{
 "cells": [
  {
   "cell_type": "code",
   "execution_count": null,
   "metadata": {},
   "outputs": [],
   "source": [
    "from io import BytesIO\n",
    "\n",
    "import boto3\n",
    "from botocore import UNSIGNED\n",
    "from botocore.config import Config\n",
    "from PIL import Image\n",
    "import numpy as np\n",
    "import matplotlib.pyplot as plt\n",
    "import pandas as pd\n",
    "import plotly.express as px\n",
    "from sklearn.cluster import KMeans\n",
    "from sklearn.manifold import locally_linear_embedding\n",
    "from sklearn.metrics import silhouette_score\n",
    "\n",
    "SEED = 42\n",
    "\n",
    "pd.set_option(\"display.max_columns\", None)"
   ]
  },
  {
   "cell_type": "code",
   "execution_count": null,
   "metadata": {},
   "outputs": [],
   "source": [
    "# Read and process labels file\n",
    "labels = pd.read_csv(\"../../data/gz_decals_auto_posteriors_cropped.csv\")\n",
    "\n",
    "labels = labels[[\n",
    "    \"iauname\", \"smooth-or-featured_smooth_fraction\",\n",
    "    \"smooth-or-featured_featured-or-disk_fraction\", \"smooth-or-featured_artifact_fraction\"\n",
    "]]\n",
    "\n",
    "labels.columns = [\"iauname\", \"smooth\", \"featured\", \"artifact\"]\n",
    "\n",
    "labels[\"label\"] = labels.values[:, 1:].argmax(axis=1)\n",
    "\n",
    "labels.head()"
   ]
  },
  {
   "cell_type": "code",
   "execution_count": null,
   "metadata": {},
   "outputs": [],
   "source": [
    "labels[\"label\"].value_counts()"
   ]
  },
  {
   "cell_type": "code",
   "execution_count": null,
   "metadata": {},
   "outputs": [],
   "source": [
    "all_labels = labels[\"label\"].unique()\n",
    "\n",
    "IMAGES_PER_LABEL = 400\n",
    "\n",
    "files_for_each_label = dict()\n",
    "\n",
    "for label in all_labels:\n",
    "    files_for_each_label[label] = labels[labels[\"label\"] == label].iloc[:400][\"iauname\"]"
   ]
  },
  {
   "cell_type": "code",
   "execution_count": null,
   "metadata": {},
   "outputs": [],
   "source": [
    "labels = labels[\n",
    "    labels[\"iauname\"].isin(\n",
    "        np.hstack([files_for_each_label[label] for label in all_labels])\n",
    "    )\n",
    "]\n",
    "labels.shape"
   ]
  },
  {
   "cell_type": "code",
   "execution_count": null,
   "metadata": {},
   "outputs": [],
   "source": [
    "s3 = boto3.client('s3', config=Config(signature_version=UNSIGNED))\n",
    "\n",
    "bucket_name = \"galaxy-morph-manifold-learning-processed\"\n",
    "\n",
    "# paginator = s3.get_paginator('list_objects_v2')\n",
    "# page_iterator = paginator.paginate(Bucket=bucket_name)\n",
    "\n",
    "# all_files = []\n",
    "# for page in page_iterator:\n",
    "#     if 'Contents' in page:\n",
    "#         all_files.extend(page['Contents'])\n",
    "\n",
    "# print(f\"Total number of files in the bucket: {len(all_files)}\")"
   ]
  },
  {
   "cell_type": "code",
   "execution_count": null,
   "metadata": {},
   "outputs": [],
   "source": [
    "# images = []\n",
    "\n",
    "# for filename in labels[\"iauname\"].values:\n",
    "#     object_key = f\"{filename}.png\"\n",
    "\n",
    "#     response = s3.get_object(Bucket=bucket_name, Key=object_key)\n",
    "#     file_stream = BytesIO(response['Body'].read())\n",
    "\n",
    "#     image = Image.open(file_stream)\n",
    "#     image_array = np.array(image)\n",
    "\n",
    "#     images.append(image_array)\n",
    "\n",
    "# images = np.array(images)\n",
    "# images.shape"
   ]
  },
  {
   "cell_type": "code",
   "execution_count": null,
   "metadata": {},
   "outputs": [],
   "source": [
    "images = np.load(\"../../data/1200_processed_images_balanced.npy\")\n",
    "images.shape"
   ]
  },
  {
   "cell_type": "code",
   "execution_count": null,
   "metadata": {},
   "outputs": [],
   "source": [
    "# np.save(\"../../data/1200_processed_images_balanced.npy\", images)"
   ]
  },
  {
   "cell_type": "code",
   "execution_count": null,
   "metadata": {},
   "outputs": [],
   "source": [
    "labels = pd.read_csv(\"../../data/1200_processed_images_balanced.csv\")\n",
    "labels.head()"
   ]
  },
  {
   "cell_type": "code",
   "execution_count": null,
   "metadata": {},
   "outputs": [],
   "source": [
    "# labels.to_csv(\"../../data/1200_processed_images_balanced.csv\", index=False)"
   ]
  },
  {
   "cell_type": "code",
   "execution_count": null,
   "metadata": {},
   "outputs": [],
   "source": [
    "if images.shape[1] != 120:\n",
    "    images = images[:, 68:-68, 68:-68]\n",
    "images.shape"
   ]
  },
  {
   "cell_type": "code",
   "execution_count": null,
   "metadata": {},
   "outputs": [],
   "source": [
    "embedding, _ = locally_linear_embedding(\n",
    "    images.reshape(images.shape[0], images.shape[1] * images.shape[2]),\n",
    "    n_neighbors=50,\n",
    "    n_components=50,\n",
    "    random_state=SEED,\n",
    ")\n",
    "embedding.shape"
   ]
  },
  {
   "cell_type": "code",
   "execution_count": null,
   "metadata": {},
   "outputs": [],
   "source": [
    "plt.scatter(embedding[:, 0], embedding[:, 1], c=labels[\"label\"].values, cmap=\"Set2\", alpha=0.8)\n",
    "plt.colorbar(label=\"Labels\")\n",
    "plt.show();"
   ]
  },
  {
   "cell_type": "code",
   "execution_count": null,
   "metadata": {},
   "outputs": [],
   "source": [
    "# fig = px.scatter_3d(\n",
    "#     x=embedding[:, 0],\n",
    "#     y=embedding[:, 1],\n",
    "#     z=embedding[:, 2],\n",
    "#     color=labels[\"label\"],\n",
    "#     labels={'color': 'Label'},\n",
    "#     title=\"LLE\",\n",
    "#     color_continuous_scale='viridis'\n",
    "# )\n",
    "\n",
    "# fig.update_layout(\n",
    "#     scene=dict(\n",
    "#         xaxis_title=f\"LLE Component 1\",\n",
    "#         yaxis_title=f\"LLE Component 2\",\n",
    "#         zaxis_title=f\"LLE Component 3\"\n",
    "#     )\n",
    "# )\n",
    "\n",
    "# fig.write_html(f\"../../plots/LLE_3d_1200_processed_images_balanced_98_components.html\")"
   ]
  },
  {
   "cell_type": "code",
   "execution_count": null,
   "metadata": {},
   "outputs": [],
   "source": [
    "labels[\"label\"].value_counts()"
   ]
  },
  {
   "cell_type": "code",
   "execution_count": null,
   "metadata": {},
   "outputs": [],
   "source": [
    "kmeans = KMeans(n_clusters=3, random_state=SEED, n_init=\"auto\").fit(embedding)\n",
    "preds = kmeans.predict(embedding)\n",
    "preds.shape"
   ]
  },
  {
   "cell_type": "code",
   "execution_count": null,
   "metadata": {},
   "outputs": [],
   "source": [
    "from sklearn.preprocessing import StandardScaler\n",
    "scaler = StandardScaler()\n",
    "embedding = scaler.fit_transform(embedding)"
   ]
  },
  {
   "cell_type": "code",
   "execution_count": null,
   "metadata": {},
   "outputs": [],
   "source": [
    "max_clusters = 100  # Maximum number of clusters to try\n",
    "wcss = []  # List to store WCSS values\n",
    "\n",
    "\n",
    "# Loop over different numbers of clusters\n",
    "for n_clusters in range(2, max_clusters + 1):\n",
    "    kmeans = KMeans(n_clusters=n_clusters, random_state=SEED, n_init=\"auto\").fit(embedding)\n",
    "    wcss.append(kmeans.inertia_)  # Save the WCSS (inertia)\n",
    "\n",
    "# Plot the elbow plot\n",
    "plt.figure(figsize=(8, 6))\n",
    "plt.plot(range(2, max_clusters + 1), wcss, marker='o', linestyle='-', color='b')\n",
    "plt.title(\"Elbow Method for Optimal Clusters\", fontsize=14)\n",
    "plt.xlabel(\"Number of Clusters (k)\", fontsize=12)\n",
    "plt.ylabel(\"Within-Cluster Sum of Squares (WCSS)\", fontsize=12)\n",
    "# plt.xticks(range(2, max_clusters + 1))  # Ensure all k values are marked\n",
    "# plt.grid(True)\n",
    "plt.show()\n"
   ]
  },
  {
   "cell_type": "code",
   "execution_count": null,
   "metadata": {},
   "outputs": [],
   "source": [
    "silhouette_scores = []\n",
    "\n",
    "for n_clusters in range(2, max_clusters + 1):\n",
    "    kmeans = KMeans(n_clusters=n_clusters, random_state=SEED, n_init=\"auto\").fit(embedding)\n",
    "    score = silhouette_score(embedding, kmeans.labels_)\n",
    "    silhouette_scores.append(score)\n",
    "\n",
    "# Plot silhouette scores\n",
    "plt.figure(figsize=(8, 6))\n",
    "plt.plot(range(2, max_clusters + 1), silhouette_scores, marker='o', linestyle='-', color='g')\n",
    "plt.title(\"Silhouette Scores for k-means Clustering\", fontsize=14)\n",
    "plt.xlabel(\"Number of Clusters (k)\", fontsize=12)\n",
    "plt.ylabel(\"Silhouette Score\", fontsize=12)\n",
    "plt.xticks(range(2, max_clusters + 1))\n",
    "plt.grid(True)\n",
    "plt.show()\n"
   ]
  },
  {
   "cell_type": "code",
   "execution_count": null,
   "metadata": {},
   "outputs": [],
   "source": [
    "fig = px.scatter_3d(\n",
    "    x=embedding[:, 0],\n",
    "    y=embedding[:, 1],\n",
    "    z=embedding[:, 2],\n",
    "    color=preds,\n",
    "    labels={'color': 'Label'},\n",
    "    title=\"LLE\",\n",
    "    color_continuous_scale='viridis'\n",
    ")\n",
    "\n",
    "fig.update_layout(\n",
    "    scene=dict(\n",
    "        xaxis_title=f\"LLE Component 1\",\n",
    "        yaxis_title=f\"LLE Component 2\",\n",
    "        zaxis_title=f\"LLE Component 3\"\n",
    "    )\n",
    ")\n",
    "\n",
    "fig.write_html(f\"../../plots/kmeans_LLE_3d_1200_processed_images_balanced_98_components.html\")"
   ]
  }
 ],
 "metadata": {
  "kernelspec": {
   "display_name": "Python 3",
   "language": "python",
   "name": "python3"
  },
  "language_info": {
   "codemirror_mode": {
    "name": "ipython",
    "version": 3
   },
   "file_extension": ".py",
   "mimetype": "text/x-python",
   "name": "python",
   "nbconvert_exporter": "python",
   "pygments_lexer": "ipython3",
   "version": "3.9.0"
  }
 },
 "nbformat": 4,
 "nbformat_minor": 2
}
