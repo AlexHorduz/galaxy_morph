{
    "cells": [
        {
            "cell_type": "code",
            "execution_count": 4,
            "metadata": {
                "executionInfo": {
                    "elapsed": 10080,
                    "status": "ok",
                    "timestamp": 1732359748591,
                    "user": {
                        "displayName": "Sasha Kryvosheya",
                        "userId": "11799445742700657283"
                    },
                    "user_tz": -120
                },
                "id": "6mgeHF9-iHvK"
            },
            "outputs": [],
            "source": [
                "from io import BytesIO\n",
                "\n",
                "import boto3\n",
                "from botocore import UNSIGNED\n",
                "from botocore.config import Config\n",
                "from PIL import Image\n",
                "import numpy as np\n",
                "import matplotlib.pyplot as plt\n",
                "import pandas as pd\n",
                "import plotly.express as px\n",
                "from sklearn.cluster import KMeans\n",
                "from sklearn.manifold import locally_linear_embedding\n",
                "\n",
                "SEED = 42\n",
                "\n",
                "pd.set_option(\"display.max_columns\", None)"
            ]
        },
        {
            "cell_type": "code",
            "execution_count": null,
            "metadata": {
                "colab": {
                    "base_uri": "https://localhost:8080/",
                    "height": 206
                },
                "executionInfo": {
                    "elapsed": 22137,
                    "status": "ok",
                    "timestamp": 1732359775651,
                    "user": {
                        "displayName": "Sasha Kryvosheya",
                        "userId": "11799445742700657283"
                    },
                    "user_tz": -120
                },
                "id": "HbaV0QdJiHvL",
                "outputId": "8c91ab19-a059-400c-e4f7-f03738d981c3"
            },
            "outputs": [
                {
                    "data": {
                        "application/vnd.google.colaboratory.intrinsic+json": {
                            "summary": "{\n  \"name\": \"labels\",\n  \"rows\": 83286,\n  \"fields\": [\n    {\n      \"column\": \"iauname\",\n      \"properties\": {\n        \"dtype\": \"string\",\n        \"num_unique_values\": 83286,\n        \"samples\": [\n          \"J083228.85+254121.0\",\n          \"J082313.09-005152.9\",\n          \"J095343.36-004955.3\"\n        ],\n        \"semantic_type\": \"\",\n        \"description\": \"\"\n      }\n    },\n    {\n      \"column\": \"smooth\",\n      \"properties\": {\n        \"dtype\": \"number\",\n        \"std\": 0.24890719891783344,\n        \"min\": 0.0126412477301342,\n        \"max\": 0.921316281808074,\n        \"num_unique_values\": 83286,\n        \"samples\": [\n          0.7938763090748461,\n          0.253129187350665,\n          0.794496137419671\n        ],\n        \"semantic_type\": \"\",\n        \"description\": \"\"\n      }\n    },\n    {\n      \"column\": \"featured\",\n      \"properties\": {\n        \"dtype\": \"number\",\n        \"std\": 0.26146082058659076,\n        \"min\": 0.0231934992803213,\n        \"max\": 0.9626586673429384,\n        \"num_unique_values\": 83286,\n        \"samples\": [\n          0.0994805480339297,\n          0.6973375230991716,\n          0.126599987416214\n        ],\n        \"semantic_type\": \"\",\n        \"description\": \"\"\n      }\n    },\n    {\n      \"column\": \"artifact\",\n      \"properties\": {\n        \"dtype\": \"number\",\n        \"std\": 0.07469467769242248,\n        \"min\": 0.0228661278341249,\n        \"max\": 0.9387371301789936,\n        \"num_unique_values\": 83286,\n        \"samples\": [\n          0.1066431428912241,\n          0.0495332895501632,\n          0.078903875164115\n        ],\n        \"semantic_type\": \"\",\n        \"description\": \"\"\n      }\n    },\n    {\n      \"column\": \"label\",\n      \"properties\": {\n        \"dtype\": \"number\",\n        \"std\": 0,\n        \"min\": 0,\n        \"max\": 2,\n        \"num_unique_values\": 3,\n        \"samples\": [\n          1,\n          0,\n          2\n        ],\n        \"semantic_type\": \"\",\n        \"description\": \"\"\n      }\n    }\n  ]\n}",
                            "type": "dataframe",
                            "variable_name": "labels"
                        },
                        "text/html": [
                            "\n",
                            "  <div id=\"df-913b8bf7-e726-4c52-ace2-d974facdd339\" class=\"colab-df-container\">\n",
                            "    <div>\n",
                            "<style scoped>\n",
                            "    .dataframe tbody tr th:only-of-type {\n",
                            "        vertical-align: middle;\n",
                            "    }\n",
                            "\n",
                            "    .dataframe tbody tr th {\n",
                            "        vertical-align: top;\n",
                            "    }\n",
                            "\n",
                            "    .dataframe thead th {\n",
                            "        text-align: right;\n",
                            "    }\n",
                            "</style>\n",
                            "<table border=\"1\" class=\"dataframe\">\n",
                            "  <thead>\n",
                            "    <tr style=\"text-align: right;\">\n",
                            "      <th></th>\n",
                            "      <th>iauname</th>\n",
                            "      <th>smooth</th>\n",
                            "      <th>featured</th>\n",
                            "      <th>artifact</th>\n",
                            "      <th>label</th>\n",
                            "    </tr>\n",
                            "  </thead>\n",
                            "  <tbody>\n",
                            "    <tr>\n",
                            "      <th>0</th>\n",
                            "      <td>J094651.40-010228.5</td>\n",
                            "      <td>0.285737</td>\n",
                            "      <td>0.682081</td>\n",
                            "      <td>0.032182</td>\n",
                            "      <td>1</td>\n",
                            "    </tr>\n",
                            "    <tr>\n",
                            "      <th>1</th>\n",
                            "      <td>J094630.85-004554.5</td>\n",
                            "      <td>0.493212</td>\n",
                            "      <td>0.455216</td>\n",
                            "      <td>0.051572</td>\n",
                            "      <td>0</td>\n",
                            "    </tr>\n",
                            "    <tr>\n",
                            "      <th>2</th>\n",
                            "      <td>J094631.59-005917.7</td>\n",
                            "      <td>0.899878</td>\n",
                            "      <td>0.051691</td>\n",
                            "      <td>0.048431</td>\n",
                            "      <td>0</td>\n",
                            "    </tr>\n",
                            "    <tr>\n",
                            "      <th>3</th>\n",
                            "      <td>J094744.18-004013.4</td>\n",
                            "      <td>0.772967</td>\n",
                            "      <td>0.099507</td>\n",
                            "      <td>0.127526</td>\n",
                            "      <td>0</td>\n",
                            "    </tr>\n",
                            "    <tr>\n",
                            "      <th>4</th>\n",
                            "      <td>J094751.74-003242.0</td>\n",
                            "      <td>0.529303</td>\n",
                            "      <td>0.409423</td>\n",
                            "      <td>0.061275</td>\n",
                            "      <td>0</td>\n",
                            "    </tr>\n",
                            "  </tbody>\n",
                            "</table>\n",
                            "</div>\n",
                            "    <div class=\"colab-df-buttons\">\n",
                            "\n",
                            "  <div class=\"colab-df-container\">\n",
                            "    <button class=\"colab-df-convert\" onclick=\"convertToInteractive('df-913b8bf7-e726-4c52-ace2-d974facdd339')\"\n",
                            "            title=\"Convert this dataframe to an interactive table.\"\n",
                            "            style=\"display:none;\">\n",
                            "\n",
                            "  <svg xmlns=\"http://www.w3.org/2000/svg\" height=\"24px\" viewBox=\"0 -960 960 960\">\n",
                            "    <path d=\"M120-120v-720h720v720H120Zm60-500h600v-160H180v160Zm220 220h160v-160H400v160Zm0 220h160v-160H400v160ZM180-400h160v-160H180v160Zm440 0h160v-160H620v160ZM180-180h160v-160H180v160Zm440 0h160v-160H620v160Z\"/>\n",
                            "  </svg>\n",
                            "    </button>\n",
                            "\n",
                            "  <style>\n",
                            "    .colab-df-container {\n",
                            "      display:flex;\n",
                            "      gap: 12px;\n",
                            "    }\n",
                            "\n",
                            "    .colab-df-convert {\n",
                            "      background-color: #E8F0FE;\n",
                            "      border: none;\n",
                            "      border-radius: 50%;\n",
                            "      cursor: pointer;\n",
                            "      display: none;\n",
                            "      fill: #1967D2;\n",
                            "      height: 32px;\n",
                            "      padding: 0 0 0 0;\n",
                            "      width: 32px;\n",
                            "    }\n",
                            "\n",
                            "    .colab-df-convert:hover {\n",
                            "      background-color: #E2EBFA;\n",
                            "      box-shadow: 0px 1px 2px rgba(60, 64, 67, 0.3), 0px 1px 3px 1px rgba(60, 64, 67, 0.15);\n",
                            "      fill: #174EA6;\n",
                            "    }\n",
                            "\n",
                            "    .colab-df-buttons div {\n",
                            "      margin-bottom: 4px;\n",
                            "    }\n",
                            "\n",
                            "    [theme=dark] .colab-df-convert {\n",
                            "      background-color: #3B4455;\n",
                            "      fill: #D2E3FC;\n",
                            "    }\n",
                            "\n",
                            "    [theme=dark] .colab-df-convert:hover {\n",
                            "      background-color: #434B5C;\n",
                            "      box-shadow: 0px 1px 3px 1px rgba(0, 0, 0, 0.15);\n",
                            "      filter: drop-shadow(0px 1px 2px rgba(0, 0, 0, 0.3));\n",
                            "      fill: #FFFFFF;\n",
                            "    }\n",
                            "  </style>\n",
                            "\n",
                            "    <script>\n",
                            "      const buttonEl =\n",
                            "        document.querySelector('#df-913b8bf7-e726-4c52-ace2-d974facdd339 button.colab-df-convert');\n",
                            "      buttonEl.style.display =\n",
                            "        google.colab.kernel.accessAllowed ? 'block' : 'none';\n",
                            "\n",
                            "      async function convertToInteractive(key) {\n",
                            "        const element = document.querySelector('#df-913b8bf7-e726-4c52-ace2-d974facdd339');\n",
                            "        const dataTable =\n",
                            "          await google.colab.kernel.invokeFunction('convertToInteractive',\n",
                            "                                                    [key], {});\n",
                            "        if (!dataTable) return;\n",
                            "\n",
                            "        const docLinkHtml = 'Like what you see? Visit the ' +\n",
                            "          '<a target=\"_blank\" href=https://colab.research.google.com/notebooks/data_table.ipynb>data table notebook</a>'\n",
                            "          + ' to learn more about interactive tables.';\n",
                            "        element.innerHTML = '';\n",
                            "        dataTable['output_type'] = 'display_data';\n",
                            "        await google.colab.output.renderOutput(dataTable, element);\n",
                            "        const docLink = document.createElement('div');\n",
                            "        docLink.innerHTML = docLinkHtml;\n",
                            "        element.appendChild(docLink);\n",
                            "      }\n",
                            "    </script>\n",
                            "  </div>\n",
                            "\n",
                            "\n",
                            "<div id=\"df-94662f10-b612-4f6f-9ba2-efd8e2199537\">\n",
                            "  <button class=\"colab-df-quickchart\" onclick=\"quickchart('df-94662f10-b612-4f6f-9ba2-efd8e2199537')\"\n",
                            "            title=\"Suggest charts\"\n",
                            "            style=\"display:none;\">\n",
                            "\n",
                            "<svg xmlns=\"http://www.w3.org/2000/svg\" height=\"24px\"viewBox=\"0 0 24 24\"\n",
                            "     width=\"24px\">\n",
                            "    <g>\n",
                            "        <path d=\"M19 3H5c-1.1 0-2 .9-2 2v14c0 1.1.9 2 2 2h14c1.1 0 2-.9 2-2V5c0-1.1-.9-2-2-2zM9 17H7v-7h2v7zm4 0h-2V7h2v10zm4 0h-2v-4h2v4z\"/>\n",
                            "    </g>\n",
                            "</svg>\n",
                            "  </button>\n",
                            "\n",
                            "<style>\n",
                            "  .colab-df-quickchart {\n",
                            "      --bg-color: #E8F0FE;\n",
                            "      --fill-color: #1967D2;\n",
                            "      --hover-bg-color: #E2EBFA;\n",
                            "      --hover-fill-color: #174EA6;\n",
                            "      --disabled-fill-color: #AAA;\n",
                            "      --disabled-bg-color: #DDD;\n",
                            "  }\n",
                            "\n",
                            "  [theme=dark] .colab-df-quickchart {\n",
                            "      --bg-color: #3B4455;\n",
                            "      --fill-color: #D2E3FC;\n",
                            "      --hover-bg-color: #434B5C;\n",
                            "      --hover-fill-color: #FFFFFF;\n",
                            "      --disabled-bg-color: #3B4455;\n",
                            "      --disabled-fill-color: #666;\n",
                            "  }\n",
                            "\n",
                            "  .colab-df-quickchart {\n",
                            "    background-color: var(--bg-color);\n",
                            "    border: none;\n",
                            "    border-radius: 50%;\n",
                            "    cursor: pointer;\n",
                            "    display: none;\n",
                            "    fill: var(--fill-color);\n",
                            "    height: 32px;\n",
                            "    padding: 0;\n",
                            "    width: 32px;\n",
                            "  }\n",
                            "\n",
                            "  .colab-df-quickchart:hover {\n",
                            "    background-color: var(--hover-bg-color);\n",
                            "    box-shadow: 0 1px 2px rgba(60, 64, 67, 0.3), 0 1px 3px 1px rgba(60, 64, 67, 0.15);\n",
                            "    fill: var(--button-hover-fill-color);\n",
                            "  }\n",
                            "\n",
                            "  .colab-df-quickchart-complete:disabled,\n",
                            "  .colab-df-quickchart-complete:disabled:hover {\n",
                            "    background-color: var(--disabled-bg-color);\n",
                            "    fill: var(--disabled-fill-color);\n",
                            "    box-shadow: none;\n",
                            "  }\n",
                            "\n",
                            "  .colab-df-spinner {\n",
                            "    border: 2px solid var(--fill-color);\n",
                            "    border-color: transparent;\n",
                            "    border-bottom-color: var(--fill-color);\n",
                            "    animation:\n",
                            "      spin 1s steps(1) infinite;\n",
                            "  }\n",
                            "\n",
                            "  @keyframes spin {\n",
                            "    0% {\n",
                            "      border-color: transparent;\n",
                            "      border-bottom-color: var(--fill-color);\n",
                            "      border-left-color: var(--fill-color);\n",
                            "    }\n",
                            "    20% {\n",
                            "      border-color: transparent;\n",
                            "      border-left-color: var(--fill-color);\n",
                            "      border-top-color: var(--fill-color);\n",
                            "    }\n",
                            "    30% {\n",
                            "      border-color: transparent;\n",
                            "      border-left-color: var(--fill-color);\n",
                            "      border-top-color: var(--fill-color);\n",
                            "      border-right-color: var(--fill-color);\n",
                            "    }\n",
                            "    40% {\n",
                            "      border-color: transparent;\n",
                            "      border-right-color: var(--fill-color);\n",
                            "      border-top-color: var(--fill-color);\n",
                            "    }\n",
                            "    60% {\n",
                            "      border-color: transparent;\n",
                            "      border-right-color: var(--fill-color);\n",
                            "    }\n",
                            "    80% {\n",
                            "      border-color: transparent;\n",
                            "      border-right-color: var(--fill-color);\n",
                            "      border-bottom-color: var(--fill-color);\n",
                            "    }\n",
                            "    90% {\n",
                            "      border-color: transparent;\n",
                            "      border-bottom-color: var(--fill-color);\n",
                            "    }\n",
                            "  }\n",
                            "</style>\n",
                            "\n",
                            "  <script>\n",
                            "    async function quickchart(key) {\n",
                            "      const quickchartButtonEl =\n",
                            "        document.querySelector('#' + key + ' button');\n",
                            "      quickchartButtonEl.disabled = true;  // To prevent multiple clicks.\n",
                            "      quickchartButtonEl.classList.add('colab-df-spinner');\n",
                            "      try {\n",
                            "        const charts = await google.colab.kernel.invokeFunction(\n",
                            "            'suggestCharts', [key], {});\n",
                            "      } catch (error) {\n",
                            "        console.error('Error during call to suggestCharts:', error);\n",
                            "      }\n",
                            "      quickchartButtonEl.classList.remove('colab-df-spinner');\n",
                            "      quickchartButtonEl.classList.add('colab-df-quickchart-complete');\n",
                            "    }\n",
                            "    (() => {\n",
                            "      let quickchartButtonEl =\n",
                            "        document.querySelector('#df-94662f10-b612-4f6f-9ba2-efd8e2199537 button');\n",
                            "      quickchartButtonEl.style.display =\n",
                            "        google.colab.kernel.accessAllowed ? 'block' : 'none';\n",
                            "    })();\n",
                            "  </script>\n",
                            "</div>\n",
                            "    </div>\n",
                            "  </div>\n"
                        ],
                        "text/plain": [
                            "               iauname    smooth  featured  artifact  label\n",
                            "0  J094651.40-010228.5  0.285737  0.682081  0.032182      1\n",
                            "1  J094630.85-004554.5  0.493212  0.455216  0.051572      0\n",
                            "2  J094631.59-005917.7  0.899878  0.051691  0.048431      0\n",
                            "3  J094744.18-004013.4  0.772967  0.099507  0.127526      0\n",
                            "4  J094751.74-003242.0  0.529303  0.409423  0.061275      0"
                        ]
                    },
                    "execution_count": 5,
                    "metadata": {},
                    "output_type": "execute_result"
                }
            ],
            "source": [
                "# Read and process labels file\n",
                "labels = pd.read_csv(\n",
    "    \"/content/drive/MyDrive/data/gz_decals_auto_posteriors_cropped.csv\"\n",
    ")\n",
                "\n",
                "labels = labels[\n",
                "    [\n",
    "        \"iauname\",\n",
    "        \"smooth-or-featured_smooth_fraction\",\n",
                "        \"smooth-or-featured_featured-or-disk_fraction\",\n",
    "        \"smooth-or-featured_artifact_fraction\",\n",
                "    ]\n",
                "]\n",
                "\n",
    "labels.columns = [\"iauname\", \"smooth\", \"featured\", \"artifact\"]\n",
                "\n",
                "labels[\"label\"] = labels.values[:, 1:].argmax(axis=1)\n",
                "\n",
                "labels.head()"
            ]
        },
        {
            "cell_type": "code",
            "execution_count": null,
            "metadata": {
                "colab": {
                    "base_uri": "https://localhost:8080/"
                },
                "executionInfo": {
                    "elapsed": 21532,
                    "status": "ok",
                    "timestamp": 1732359685082,
                    "user": {
                        "displayName": "Sasha Kryvosheya",
                        "userId": "11799445742700657283"
                    },
                    "user_tz": -120
                },
                "id": "Jo1GCIDvkb5U",
                "outputId": "ba8f9722-6c54-4048-bd79-ed63ec623fb2"
            },
            "outputs": [
                {
                    "name": "stdout",
                    "output_type": "stream",
                    "text": [
                        "Mounted at /content/drive\n"
                    ]
                }
            ],
            "source": [
                "from google.colab import drive\n",
    "\n",
                "drive.mount(\"/content/drive\")"
            ]
        },
        {
            "cell_type": "code",
            "execution_count": 6,
            "metadata": {
                "colab": {
                    "base_uri": "https://localhost:8080/",
                    "height": 209
                },
                "executionInfo": {
                    "elapsed": 307,
                    "status": "ok",
                    "timestamp": 1732359782142,
                    "user": {
                        "displayName": "Sasha Kryvosheya",
                        "userId": "11799445742700657283"
                    },
                    "user_tz": -120
                },
                "id": "LolCduCiiHvM",
                "outputId": "a8f58909-4eac-4bdb-ea68-dd0a3f6a864a"
            },
            "outputs": [
                {
                    "data": {
                        "text/html": [
                            "<div>\n",
                            "<style scoped>\n",
                            "    .dataframe tbody tr th:only-of-type {\n",
                            "        vertical-align: middle;\n",
                            "    }\n",
                            "\n",
                            "    .dataframe tbody tr th {\n",
                            "        vertical-align: top;\n",
                            "    }\n",
                            "\n",
                            "    .dataframe thead th {\n",
                            "        text-align: right;\n",
                            "    }\n",
                            "</style>\n",
                            "<table border=\"1\" class=\"dataframe\">\n",
                            "  <thead>\n",
                            "    <tr style=\"text-align: right;\">\n",
                            "      <th></th>\n",
                            "      <th>count</th>\n",
                            "    </tr>\n",
                            "    <tr>\n",
                            "      <th>label</th>\n",
                            "      <th></th>\n",
                            "    </tr>\n",
                            "  </thead>\n",
                            "  <tbody>\n",
                            "    <tr>\n",
                            "      <th>0</th>\n",
                            "      <td>58420</td>\n",
                            "    </tr>\n",
                            "    <tr>\n",
                            "      <th>1</th>\n",
                            "      <td>23904</td>\n",
                            "    </tr>\n",
                            "    <tr>\n",
                            "      <th>2</th>\n",
                            "      <td>962</td>\n",
                            "    </tr>\n",
                            "  </tbody>\n",
                            "</table>\n",
                            "</div><br><label><b>dtype:</b> int64</label>"
                        ],
                        "text/plain": [
                            "label\n",
                            "0    58420\n",
                            "1    23904\n",
                            "2      962\n",
                            "Name: count, dtype: int64"
                        ]
                    },
                    "execution_count": 6,
                    "metadata": {},
                    "output_type": "execute_result"
                }
            ],
            "source": [
                "labels[\"label\"].value_counts()"
            ]
        },
        {
            "cell_type": "code",
            "execution_count": 7,
            "metadata": {
                "executionInfo": {
                    "elapsed": 283,
                    "status": "ok",
                    "timestamp": 1732359791482,
                    "user": {
                        "displayName": "Sasha Kryvosheya",
                        "userId": "11799445742700657283"
                    },
                    "user_tz": -120
                },
                "id": "9hMwqS_-iHvM"
            },
            "outputs": [],
            "source": [
                "filtered_labels = labels[labels[\"label\"] != 2]\n",
                "\n",
                "all_labels = filtered_labels[\"label\"].unique()\n",
                "\n",
                "IMAGES_PER_LABEL = 400\n",
                "\n",
                "files_for_each_label = dict()\n",
                "\n",
                "for label in all_labels:\n",
                "    files_for_each_label[label] = labels[labels[\"label\"] == label].iloc[:400][\"iauname\"]"
            ]
        },
        {
            "cell_type": "code",
            "execution_count": 8,
            "metadata": {
                "colab": {
                    "base_uri": "https://localhost:8080/"
                },
                "executionInfo": {
                    "elapsed": 264,
                    "status": "ok",
                    "timestamp": 1732359793060,
                    "user": {
                        "displayName": "Sasha Kryvosheya",
                        "userId": "11799445742700657283"
                    },
                    "user_tz": -120
                },
                "id": "SHX1Jz1HiHvM",
                "outputId": "c371fb3e-90a9-431b-a999-778212a8de04"
            },
            "outputs": [
                {
                    "data": {
                        "text/plain": [
                            "(800, 5)"
                        ]
                    },
                    "execution_count": 8,
                    "metadata": {},
                    "output_type": "execute_result"
                }
            ],
            "source": [
                "labels = labels[\n",
                "    labels[\"iauname\"].isin(\n",
                "        np.hstack([files_for_each_label[label] for label in all_labels])\n",
                "    )\n",
                "]\n",
                "labels.shape"
            ]
        },
        {
            "cell_type": "code",
            "execution_count": null,
            "metadata": {
                "id": "L2O59miTiHvN"
            },
            "outputs": [],
            "source": [
                "s3 = boto3.client(\"s3\", config=Config(signature_version=UNSIGNED))\n",
                "\n",
                "bucket_name = \"galaxy-morph-manifold-learning-processed\"\n",
                "\n",
                "# paginator = s3.get_paginator('list_objects_v2')\n",
                "# page_iterator = paginator.paginate(Bucket=bucket_name)\n",
                "\n",
                "# all_files = []\n",
                "# for page in page_iterator:\n",
                "#     if 'Contents' in page:\n",
                "#         all_files.extend(page['Contents'])\n",
                "\n",
                "# print(f\"Total number of files in the bucket: {len(all_files)}\")"
            ]
        },
        {
            "cell_type": "code",
            "execution_count": null,
            "metadata": {
                "colab": {
                    "base_uri": "https://localhost:8080/"
                },
                "id": "Jk8fmApKiHvN",
                "outputId": "1f403e9a-0ac5-4d14-e82d-9bb44c69b2d1"
            },
            "outputs": [
                {
                    "data": {
                        "text/plain": [
                            "(800, 256, 256)"
                        ]
                    },
                    "execution_count": 17,
                    "metadata": {},
                    "output_type": "execute_result"
                }
            ],
            "source": [
                "images = []\n",
                "\n",
                "for filename in labels[\"iauname\"].values:\n",
                "    object_key = f\"{filename}.png\"\n",
                "\n",
                "    response = s3.get_object(Bucket=bucket_name, Key=object_key)\n",
                "    file_stream = BytesIO(response[\"Body\"].read())\n",
                "\n",
                "    image = Image.open(file_stream)\n",
                "    image_array = np.array(image)\n",
                "\n",
                "    images.append(image_array)\n",
                "\n",
                "images = np.array(images)\n",
                "images.shape"
            ]
        },
        {
            "cell_type": "code",
            "execution_count": 9,
            "metadata": {
                "colab": {
                    "base_uri": "https://localhost:8080/"
                },
                "executionInfo": {
                    "elapsed": 3489,
                    "status": "ok",
                    "timestamp": 1732359817142,
                    "user": {
                        "displayName": "Sasha Kryvosheya",
                        "userId": "11799445742700657283"
                    },
                    "user_tz": -120
                },
                "id": "Os-UxZfBiHvN",
                "outputId": "14f8546d-8e39-4e7e-9e1b-632c005366d8"
            },
            "outputs": [
                {
                    "data": {
                        "text/plain": [
                            "(800, 256, 256)"
                        ]
                    },
                    "execution_count": 9,
                    "metadata": {},
                    "output_type": "execute_result"
                }
            ],
            "source": [
                "images = np.load(\"/content/drive/MyDrive/data/800_processed_images_balanced.npy\")\n",
                "images.shape"
            ]
        },
        {
            "cell_type": "code",
            "execution_count": null,
            "metadata": {
                "id": "X7d0HCCuiHvN"
            },
            "outputs": [],
            "source": [
                "np.save(\"/content/drive/MyDrive/data/800_processed_images_balanced.npy\", images)"
            ]
        },
        {
            "cell_type": "code",
            "execution_count": 10,
            "metadata": {
                "colab": {
                    "base_uri": "https://localhost:8080/",
                    "height": 206
                },
                "executionInfo": {
                    "elapsed": 513,
                    "status": "ok",
                    "timestamp": 1732359822328,
                    "user": {
                        "displayName": "Sasha Kryvosheya",
                        "userId": "11799445742700657283"
                    },
                    "user_tz": -120
                },
                "id": "Q-tqPIzJiHvO",
                "outputId": "72d18c36-fd2f-429f-e637-b800ca7404aa"
            },
            "outputs": [
                {
                    "data": {
                        "application/vnd.google.colaboratory.intrinsic+json": {
                            "summary": "{\n  \"name\": \"labels\",\n  \"rows\": 800,\n  \"fields\": [\n    {\n      \"column\": \"iauname\",\n      \"properties\": {\n        \"dtype\": \"string\",\n        \"num_unique_values\": 800,\n        \"samples\": [\n          \"J100129.69+001525.9\",\n          \"J095713.64+001155.3\",\n          \"J094313.13-011102.5\"\n        ],\n        \"semantic_type\": \"\",\n        \"description\": \"\"\n      }\n    },\n    {\n      \"column\": \"smooth\",\n      \"properties\": {\n        \"dtype\": \"number\",\n        \"std\": 0.2611248473002994,\n        \"min\": 0.0168353953416405,\n        \"max\": 0.8998779896137177,\n        \"num_unique_values\": 800,\n        \"samples\": [\n          0.4038730060371823,\n          0.1838545195168472,\n          0.7645401328791153\n        ],\n        \"semantic_type\": \"\",\n        \"description\": \"\"\n      }\n    },\n    {\n      \"column\": \"featured\",\n      \"properties\": {\n        \"dtype\": \"number\",\n        \"std\": 0.2776220104254169,\n        \"min\": 0.051690872286149,\n        \"max\": 0.952285812804476,\n        \"num_unique_values\": 800,\n        \"samples\": [\n          0.5590921426552913,\n          0.7809939405978679,\n          0.1037210308555279\n        ],\n        \"semantic_type\": \"\",\n        \"description\": \"\"\n      }\n    },\n    {\n      \"column\": \"artifact\",\n      \"properties\": {\n        \"dtype\": \"number\",\n        \"std\": 0.04534940764972239,\n        \"min\": 0.0251843669873232,\n        \"max\": 0.4244997508982341,\n        \"num_unique_values\": 800,\n        \"samples\": [\n          0.0370348513075266,\n          0.0351515398852848,\n          0.1317388362653568\n        ],\n        \"semantic_type\": \"\",\n        \"description\": \"\"\n      }\n    },\n    {\n      \"column\": \"label\",\n      \"properties\": {\n        \"dtype\": \"number\",\n        \"std\": 0,\n        \"min\": 0,\n        \"max\": 1,\n        \"num_unique_values\": 2,\n        \"samples\": [\n          0,\n          1\n        ],\n        \"semantic_type\": \"\",\n        \"description\": \"\"\n      }\n    }\n  ]\n}",
                            "type": "dataframe",
                            "variable_name": "labels"
                        },
                        "text/html": [
                            "\n",
                            "  <div id=\"df-9c63c63c-8743-4cea-a352-a29684f6c851\" class=\"colab-df-container\">\n",
                            "    <div>\n",
                            "<style scoped>\n",
                            "    .dataframe tbody tr th:only-of-type {\n",
                            "        vertical-align: middle;\n",
                            "    }\n",
                            "\n",
                            "    .dataframe tbody tr th {\n",
                            "        vertical-align: top;\n",
                            "    }\n",
                            "\n",
                            "    .dataframe thead th {\n",
                            "        text-align: right;\n",
                            "    }\n",
                            "</style>\n",
                            "<table border=\"1\" class=\"dataframe\">\n",
                            "  <thead>\n",
                            "    <tr style=\"text-align: right;\">\n",
                            "      <th></th>\n",
                            "      <th>iauname</th>\n",
                            "      <th>smooth</th>\n",
                            "      <th>featured</th>\n",
                            "      <th>artifact</th>\n",
                            "      <th>label</th>\n",
                            "    </tr>\n",
                            "  </thead>\n",
                            "  <tbody>\n",
                            "    <tr>\n",
                            "      <th>0</th>\n",
                            "      <td>J094651.40-010228.5</td>\n",
                            "      <td>0.285737</td>\n",
                            "      <td>0.682081</td>\n",
                            "      <td>0.032182</td>\n",
                            "      <td>1</td>\n",
                            "    </tr>\n",
                            "    <tr>\n",
                            "      <th>1</th>\n",
                            "      <td>J094630.85-004554.5</td>\n",
                            "      <td>0.493212</td>\n",
                            "      <td>0.455216</td>\n",
                            "      <td>0.051572</td>\n",
                            "      <td>0</td>\n",
                            "    </tr>\n",
                            "    <tr>\n",
                            "      <th>2</th>\n",
                            "      <td>J094631.59-005917.7</td>\n",
                            "      <td>0.899878</td>\n",
                            "      <td>0.051691</td>\n",
                            "      <td>0.048431</td>\n",
                            "      <td>0</td>\n",
                            "    </tr>\n",
                            "    <tr>\n",
                            "      <th>3</th>\n",
                            "      <td>J094744.18-004013.4</td>\n",
                            "      <td>0.772967</td>\n",
                            "      <td>0.099507</td>\n",
                            "      <td>0.127526</td>\n",
                            "      <td>0</td>\n",
                            "    </tr>\n",
                            "    <tr>\n",
                            "      <th>4</th>\n",
                            "      <td>J094751.74-003242.0</td>\n",
                            "      <td>0.529303</td>\n",
                            "      <td>0.409423</td>\n",
                            "      <td>0.061275</td>\n",
                            "      <td>0</td>\n",
                            "    </tr>\n",
                            "  </tbody>\n",
                            "</table>\n",
                            "</div>\n",
                            "    <div class=\"colab-df-buttons\">\n",
                            "\n",
                            "  <div class=\"colab-df-container\">\n",
                            "    <button class=\"colab-df-convert\" onclick=\"convertToInteractive('df-9c63c63c-8743-4cea-a352-a29684f6c851')\"\n",
                            "            title=\"Convert this dataframe to an interactive table.\"\n",
                            "            style=\"display:none;\">\n",
                            "\n",
                            "  <svg xmlns=\"http://www.w3.org/2000/svg\" height=\"24px\" viewBox=\"0 -960 960 960\">\n",
                            "    <path d=\"M120-120v-720h720v720H120Zm60-500h600v-160H180v160Zm220 220h160v-160H400v160Zm0 220h160v-160H400v160ZM180-400h160v-160H180v160Zm440 0h160v-160H620v160ZM180-180h160v-160H180v160Zm440 0h160v-160H620v160Z\"/>\n",
                            "  </svg>\n",
                            "    </button>\n",
                            "\n",
                            "  <style>\n",
                            "    .colab-df-container {\n",
                            "      display:flex;\n",
                            "      gap: 12px;\n",
                            "    }\n",
                            "\n",
                            "    .colab-df-convert {\n",
                            "      background-color: #E8F0FE;\n",
                            "      border: none;\n",
                            "      border-radius: 50%;\n",
                            "      cursor: pointer;\n",
                            "      display: none;\n",
                            "      fill: #1967D2;\n",
                            "      height: 32px;\n",
                            "      padding: 0 0 0 0;\n",
                            "      width: 32px;\n",
                            "    }\n",
                            "\n",
                            "    .colab-df-convert:hover {\n",
                            "      background-color: #E2EBFA;\n",
                            "      box-shadow: 0px 1px 2px rgba(60, 64, 67, 0.3), 0px 1px 3px 1px rgba(60, 64, 67, 0.15);\n",
                            "      fill: #174EA6;\n",
                            "    }\n",
                            "\n",
                            "    .colab-df-buttons div {\n",
                            "      margin-bottom: 4px;\n",
                            "    }\n",
                            "\n",
                            "    [theme=dark] .colab-df-convert {\n",
                            "      background-color: #3B4455;\n",
                            "      fill: #D2E3FC;\n",
                            "    }\n",
                            "\n",
                            "    [theme=dark] .colab-df-convert:hover {\n",
                            "      background-color: #434B5C;\n",
                            "      box-shadow: 0px 1px 3px 1px rgba(0, 0, 0, 0.15);\n",
                            "      filter: drop-shadow(0px 1px 2px rgba(0, 0, 0, 0.3));\n",
                            "      fill: #FFFFFF;\n",
                            "    }\n",
                            "  </style>\n",
                            "\n",
                            "    <script>\n",
                            "      const buttonEl =\n",
                            "        document.querySelector('#df-9c63c63c-8743-4cea-a352-a29684f6c851 button.colab-df-convert');\n",
                            "      buttonEl.style.display =\n",
                            "        google.colab.kernel.accessAllowed ? 'block' : 'none';\n",
                            "\n",
                            "      async function convertToInteractive(key) {\n",
                            "        const element = document.querySelector('#df-9c63c63c-8743-4cea-a352-a29684f6c851');\n",
                            "        const dataTable =\n",
                            "          await google.colab.kernel.invokeFunction('convertToInteractive',\n",
                            "                                                    [key], {});\n",
                            "        if (!dataTable) return;\n",
                            "\n",
                            "        const docLinkHtml = 'Like what you see? Visit the ' +\n",
                            "          '<a target=\"_blank\" href=https://colab.research.google.com/notebooks/data_table.ipynb>data table notebook</a>'\n",
                            "          + ' to learn more about interactive tables.';\n",
                            "        element.innerHTML = '';\n",
                            "        dataTable['output_type'] = 'display_data';\n",
                            "        await google.colab.output.renderOutput(dataTable, element);\n",
                            "        const docLink = document.createElement('div');\n",
                            "        docLink.innerHTML = docLinkHtml;\n",
                            "        element.appendChild(docLink);\n",
                            "      }\n",
                            "    </script>\n",
                            "  </div>\n",
                            "\n",
                            "\n",
                            "<div id=\"df-61c4b0f2-8b5d-45f1-8958-a8aa1487e45c\">\n",
                            "  <button class=\"colab-df-quickchart\" onclick=\"quickchart('df-61c4b0f2-8b5d-45f1-8958-a8aa1487e45c')\"\n",
                            "            title=\"Suggest charts\"\n",
                            "            style=\"display:none;\">\n",
                            "\n",
                            "<svg xmlns=\"http://www.w3.org/2000/svg\" height=\"24px\"viewBox=\"0 0 24 24\"\n",
                            "     width=\"24px\">\n",
                            "    <g>\n",
                            "        <path d=\"M19 3H5c-1.1 0-2 .9-2 2v14c0 1.1.9 2 2 2h14c1.1 0 2-.9 2-2V5c0-1.1-.9-2-2-2zM9 17H7v-7h2v7zm4 0h-2V7h2v10zm4 0h-2v-4h2v4z\"/>\n",
                            "    </g>\n",
                            "</svg>\n",
                            "  </button>\n",
                            "\n",
                            "<style>\n",
                            "  .colab-df-quickchart {\n",
                            "      --bg-color: #E8F0FE;\n",
                            "      --fill-color: #1967D2;\n",
                            "      --hover-bg-color: #E2EBFA;\n",
                            "      --hover-fill-color: #174EA6;\n",
                            "      --disabled-fill-color: #AAA;\n",
                            "      --disabled-bg-color: #DDD;\n",
                            "  }\n",
                            "\n",
                            "  [theme=dark] .colab-df-quickchart {\n",
                            "      --bg-color: #3B4455;\n",
                            "      --fill-color: #D2E3FC;\n",
                            "      --hover-bg-color: #434B5C;\n",
                            "      --hover-fill-color: #FFFFFF;\n",
                            "      --disabled-bg-color: #3B4455;\n",
                            "      --disabled-fill-color: #666;\n",
                            "  }\n",
                            "\n",
                            "  .colab-df-quickchart {\n",
                            "    background-color: var(--bg-color);\n",
                            "    border: none;\n",
                            "    border-radius: 50%;\n",
                            "    cursor: pointer;\n",
                            "    display: none;\n",
                            "    fill: var(--fill-color);\n",
                            "    height: 32px;\n",
                            "    padding: 0;\n",
                            "    width: 32px;\n",
                            "  }\n",
                            "\n",
                            "  .colab-df-quickchart:hover {\n",
                            "    background-color: var(--hover-bg-color);\n",
                            "    box-shadow: 0 1px 2px rgba(60, 64, 67, 0.3), 0 1px 3px 1px rgba(60, 64, 67, 0.15);\n",
                            "    fill: var(--button-hover-fill-color);\n",
                            "  }\n",
                            "\n",
                            "  .colab-df-quickchart-complete:disabled,\n",
                            "  .colab-df-quickchart-complete:disabled:hover {\n",
                            "    background-color: var(--disabled-bg-color);\n",
                            "    fill: var(--disabled-fill-color);\n",
                            "    box-shadow: none;\n",
                            "  }\n",
                            "\n",
                            "  .colab-df-spinner {\n",
                            "    border: 2px solid var(--fill-color);\n",
                            "    border-color: transparent;\n",
                            "    border-bottom-color: var(--fill-color);\n",
                            "    animation:\n",
                            "      spin 1s steps(1) infinite;\n",
                            "  }\n",
                            "\n",
                            "  @keyframes spin {\n",
                            "    0% {\n",
                            "      border-color: transparent;\n",
                            "      border-bottom-color: var(--fill-color);\n",
                            "      border-left-color: var(--fill-color);\n",
                            "    }\n",
                            "    20% {\n",
                            "      border-color: transparent;\n",
                            "      border-left-color: var(--fill-color);\n",
                            "      border-top-color: var(--fill-color);\n",
                            "    }\n",
                            "    30% {\n",
                            "      border-color: transparent;\n",
                            "      border-left-color: var(--fill-color);\n",
                            "      border-top-color: var(--fill-color);\n",
                            "      border-right-color: var(--fill-color);\n",
                            "    }\n",
                            "    40% {\n",
                            "      border-color: transparent;\n",
                            "      border-right-color: var(--fill-color);\n",
                            "      border-top-color: var(--fill-color);\n",
                            "    }\n",
                            "    60% {\n",
                            "      border-color: transparent;\n",
                            "      border-right-color: var(--fill-color);\n",
                            "    }\n",
                            "    80% {\n",
                            "      border-color: transparent;\n",
                            "      border-right-color: var(--fill-color);\n",
                            "      border-bottom-color: var(--fill-color);\n",
                            "    }\n",
                            "    90% {\n",
                            "      border-color: transparent;\n",
                            "      border-bottom-color: var(--fill-color);\n",
                            "    }\n",
                            "  }\n",
                            "</style>\n",
                            "\n",
                            "  <script>\n",
                            "    async function quickchart(key) {\n",
                            "      const quickchartButtonEl =\n",
                            "        document.querySelector('#' + key + ' button');\n",
                            "      quickchartButtonEl.disabled = true;  // To prevent multiple clicks.\n",
                            "      quickchartButtonEl.classList.add('colab-df-spinner');\n",
                            "      try {\n",
                            "        const charts = await google.colab.kernel.invokeFunction(\n",
                            "            'suggestCharts', [key], {});\n",
                            "      } catch (error) {\n",
                            "        console.error('Error during call to suggestCharts:', error);\n",
                            "      }\n",
                            "      quickchartButtonEl.classList.remove('colab-df-spinner');\n",
                            "      quickchartButtonEl.classList.add('colab-df-quickchart-complete');\n",
                            "    }\n",
                            "    (() => {\n",
                            "      let quickchartButtonEl =\n",
                            "        document.querySelector('#df-61c4b0f2-8b5d-45f1-8958-a8aa1487e45c button');\n",
                            "      quickchartButtonEl.style.display =\n",
                            "        google.colab.kernel.accessAllowed ? 'block' : 'none';\n",
                            "    })();\n",
                            "  </script>\n",
                            "</div>\n",
                            "    </div>\n",
                            "  </div>\n"
                        ],
                        "text/plain": [
                            "               iauname    smooth  featured  artifact  label\n",
                            "0  J094651.40-010228.5  0.285737  0.682081  0.032182      1\n",
                            "1  J094630.85-004554.5  0.493212  0.455216  0.051572      0\n",
                            "2  J094631.59-005917.7  0.899878  0.051691  0.048431      0\n",
                            "3  J094744.18-004013.4  0.772967  0.099507  0.127526      0\n",
                            "4  J094751.74-003242.0  0.529303  0.409423  0.061275      0"
                        ]
                    },
                    "execution_count": 10,
                    "metadata": {},
                    "output_type": "execute_result"
                }
            ],
            "source": [
                "labels = pd.read_csv(\"/content/drive/MyDrive/data/800_processed_images_balanced.csv\")\n",
                "labels.head()"
            ]
        },
        {
            "cell_type": "code",
            "execution_count": null,
            "metadata": {
                "id": "f7KpGTiXiHvO"
            },
            "outputs": [],
            "source": [
                "labels.to_csv(\n",
    "    \"/content/drive/MyDrive/data/800_processed_images_balanced.csv\", index=False\n",
    ")"
            ]
        },
        {
            "cell_type": "code",
            "execution_count": 14,
            "metadata": {
                "colab": {
                    "base_uri": "https://localhost:8080/"
                },
                "executionInfo": {
                    "elapsed": 24031,
                    "status": "ok",
                    "timestamp": 1732359901389,
                    "user": {
                        "displayName": "Sasha Kryvosheya",
                        "userId": "11799445742700657283"
                    },
                    "user_tz": -120
                },
                "id": "atWrS75QiHvO",
                "outputId": "df49764a-9e37-4216-b8be-2470277323ef"
            },
            "outputs": [
                {
                    "data": {
                        "text/plain": [
                            "(800, 3)"
                        ]
                    },
                    "execution_count": 14,
                    "metadata": {},
                    "output_type": "execute_result"
                }
            ],
            "source": [
                "embedding, _ = locally_linear_embedding(\n",
                "    images.reshape(images.shape[0], images.shape[1] * images.shape[2]),\n",
                "    n_neighbors=40,\n",
                "    n_components=3,\n",
                "    random_state=SEED,\n",
                ")\n",
                "embedding.shape"
            ]
        },
        {
            "cell_type": "code",
            "execution_count": null,
            "metadata": {
                "colab": {
                    "base_uri": "https://localhost:8080/",
                    "height": 435
                },
                "executionInfo": {
                    "elapsed": 829,
                    "status": "ok",
                    "timestamp": 1732359904959,
                    "user": {
                        "displayName": "Sasha Kryvosheya",
                        "userId": "11799445742700657283"
                    },
                    "user_tz": -120
                },
                "id": "IpJFxY_QiHvO",
                "outputId": "fcc54a43-a769-40ad-ee69-d8c5d4aa0956"
            },
            "outputs": [
                {
                    "data": {
                        "image/png": "[encoded data removed]",
                        "text/plain": [
                            "<Figure size 640x480 with 2 Axes>"
                        ]
                    },
                    "metadata": {},
                    "output_type": "display_data"
                }
            ],
            "source": [
                "plt.scatter(\n",
    "    embedding[:, 0], embedding[:, 1], c=labels[\"label\"].values, cmap=\"Set2\", alpha=0.8\n",
                ")\n",
    "plt.colorbar(label=\"Labels\")\n",
                "plt.show()"
            ]
        },
        {
            "cell_type": "code",
            "execution_count": null,
            "metadata": {
                "executionInfo": {
                    "elapsed": 2452,
                    "status": "ok",
                    "timestamp": 1732359912821,
                    "user": {
                        "displayName": "Sasha Kryvosheya",
                        "userId": "11799445742700657283"
                    },
                    "user_tz": -120
                },
                "id": "M9m8T4OsiHvP"
            },
            "outputs": [],
            "source": [
                "fig = px.scatter_3d(\n",
                "    x=embedding[:, 0],\n",
                "    y=embedding[:, 1],\n",
                "    z=embedding[:, 2],\n",
                "    color=labels[\"label\"],\n",
                "    labels={\"color\": \"Label\"},\n",
                "    title=\"LLE\",\n",
                "    color_continuous_scale=\"viridis\",\n",
                ")\n",
                "\n",
                "fig.update_layout(\n",
                "    scene=dict(\n",
                "        xaxis_title=f\"LLE Component 1\",\n",
                "        yaxis_title=f\"LLE Component 2\",\n",
                "        zaxis_title=f\"LLE Component 3\",\n",
                "    )\n",
                ")\n",
                "\n",
                "fig.write_html(\n",
    "    f\"/content/drive/MyDrive/plots/LLE_3d_800_processed_images_balanced.html\"\n",
    ")"
            ]
        },
        {
            "cell_type": "code",
            "execution_count": 17,
            "metadata": {
                "colab": {
                    "base_uri": "https://localhost:8080/",
                    "height": 178
                },
                "executionInfo": {
                    "elapsed": 270,
                    "status": "ok",
                    "timestamp": 1732359919790,
                    "user": {
                        "displayName": "Sasha Kryvosheya",
                        "userId": "11799445742700657283"
                    },
                    "user_tz": -120
                },
                "id": "nPpFBav8iHvP",
                "outputId": "efb5eb0c-8afc-4ce1-b0b3-f0abd0c64bc7"
            },
            "outputs": [
                {
                    "data": {
                        "text/html": [
                            "<div>\n",
                            "<style scoped>\n",
                            "    .dataframe tbody tr th:only-of-type {\n",
                            "        vertical-align: middle;\n",
                            "    }\n",
                            "\n",
                            "    .dataframe tbody tr th {\n",
                            "        vertical-align: top;\n",
                            "    }\n",
                            "\n",
                            "    .dataframe thead th {\n",
                            "        text-align: right;\n",
                            "    }\n",
                            "</style>\n",
                            "<table border=\"1\" class=\"dataframe\">\n",
                            "  <thead>\n",
                            "    <tr style=\"text-align: right;\">\n",
                            "      <th></th>\n",
                            "      <th>count</th>\n",
                            "    </tr>\n",
                            "    <tr>\n",
                            "      <th>label</th>\n",
                            "      <th></th>\n",
                            "    </tr>\n",
                            "  </thead>\n",
                            "  <tbody>\n",
                            "    <tr>\n",
                            "      <th>1</th>\n",
                            "      <td>400</td>\n",
                            "    </tr>\n",
                            "    <tr>\n",
                            "      <th>0</th>\n",
                            "      <td>400</td>\n",
                            "    </tr>\n",
                            "  </tbody>\n",
                            "</table>\n",
                            "</div><br><label><b>dtype:</b> int64</label>"
                        ],
                        "text/plain": [
                            "label\n",
                            "1    400\n",
                            "0    400\n",
                            "Name: count, dtype: int64"
                        ]
                    },
                    "execution_count": 17,
                    "metadata": {},
                    "output_type": "execute_result"
                }
            ],
            "source": [
                "labels[\"label\"].value_counts()"
            ]
        },
        {
            "cell_type": "code",
            "execution_count": 18,
            "metadata": {
                "colab": {
                    "base_uri": "https://localhost:8080/"
                },
                "executionInfo": {
                    "elapsed": 268,
                    "status": "ok",
                    "timestamp": 1732359922388,
                    "user": {
                        "displayName": "Sasha Kryvosheya",
                        "userId": "11799445742700657283"
                    },
                    "user_tz": -120
                },
                "id": "CzyFX0SuiHvP",
                "outputId": "efa016af-eced-41cb-98ab-32820e30d61b"
            },
            "outputs": [
                {
                    "data": {
                        "text/plain": [
                            "(800,)"
                        ]
                    },
                    "execution_count": 18,
                    "metadata": {},
                    "output_type": "execute_result"
                }
            ],
            "source": [
                "kmeans = KMeans(n_clusters=2, random_state=SEED, n_init=\"auto\").fit(embedding)\n",
                "preds = kmeans.predict(embedding)\n",
                "preds.shape"
            ]
        },
        {
            "cell_type": "code",
            "execution_count": null,
            "metadata": {
                "executionInfo": {
                    "elapsed": 982,
                    "status": "ok",
                    "timestamp": 1732359929667,
                    "user": {
                        "displayName": "Sasha Kryvosheya",
                        "userId": "11799445742700657283"
                    },
                    "user_tz": -120
                },
                "id": "rleNfNUsiHvP"
            },
            "outputs": [],
            "source": [
                "fig = px.scatter_3d(\n",
                "    x=embedding[:, 0],\n",
                "    y=embedding[:, 1],\n",
                "    z=embedding[:, 2],\n",
                "    color=preds,\n",
                "    labels={\"color\": \"Label\"},\n",
                "    title=\"LLE\",\n",
                "    color_continuous_scale=\"viridis\",\n",
                ")\n",
                "\n",
                "fig.update_layout(\n",
                "    scene=dict(\n",
                "        xaxis_title=f\"LLE Component 1\",\n",
                "        yaxis_title=f\"LLE Component 2\",\n",
                "        zaxis_title=f\"LLE Component 3\",\n",
                "    )\n",
                ")\n",
                "\n",
                "fig.write_html(\n",
    "    f\"/content/drive/MyDrive/plots/kmeans_LLE_3d_800_processed_images_balanced.html\"\n",
    ")"
            ]
        }
    ],
    "metadata": {
        "colab": {
            "provenance": []
        },
        "kernelspec": {
            "display_name": "Python 3",
            "language": "python",
            "name": "python3"
        },
        "language_info": {
            "codemirror_mode": {
                "name": "ipython",
                "version": 3
            },
            "file_extension": ".py",
            "mimetype": "text/x-python",
            "name": "python",
            "nbconvert_exporter": "python",
            "pygments_lexer": "ipython3",
            "version": "3.9.0"
        }
    },
    "nbformat": 4,
    "nbformat_minor": 0
}
