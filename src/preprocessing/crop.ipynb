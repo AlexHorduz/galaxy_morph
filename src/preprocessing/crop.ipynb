{
 "cells": [
  {
   "cell_type": "code",
   "execution_count": null,
   "metadata": {
    "colab": {
     "base_uri": "https://localhost:8080/"
    },
    "id": "SXm_JxB75DNo",
    "outputId": "a294f942-ad0d-4341-f9f2-5b9057fc4991"
   },
   "outputs": [],
   "source": [
    "import os\n",
    "from PIL import Image\n",
    "import numpy as np\n",
    "\n",
    "# Визначаємо шляхи до папок\n",
    "input_folder = '/content/drive/MyDrive/photos'\n",
    "output_folder = '/content/drive/MyDrive/croped'\n",
    "\n",
    "# Створюємо папку для збереження оброблених зображень, якщо її ще немає\n",
    "os.makedirs(output_folder, exist_ok=True)\n",
    "\n",
    "# Функція для обробки зображень\n",
    "def process_image(image_path, output_path):\n",
    "    # Відкриваємо зображення\n",
    "    image = Image.open(image_path)\n",
    "\n",
    "    # Перетворюємо зображення у відтінки сірого\n",
    "    gray_image = image.convert('L')\n",
    "\n",
    "    # Отримуємо розміри зображення\n",
    "    width, height = gray_image.size\n",
    "\n",
    "    # Обрізаємо зображення: 1/5 з кожної сторони\n",
    "    left = width // 5\n",
    "    top = height // 5\n",
    "    right = width - (width // 5)\n",
    "    bottom = height - (height // 5)\n",
    "\n",
    "    cropped_image = gray_image.crop((left, top, right, bottom))\n",
    "\n",
    "    # Зберігаємо оброблене зображення\n",
    "    cropped_image.save(output_path)\n",
    "\n",
    "# Обробляємо всі зображення в папці\n",
    "for filename in os.listdir(input_folder):\n",
    "    image_path = os.path.join(input_folder, filename)\n",
    "\n",
    "    # Перевіряємо, чи є файл зображення\n",
    "    if os.path.isfile(image_path) and filename.lower().endswith(('jpg', 'jpeg', 'png')):\n",
    "        output_path = os.path.join(output_folder, filename)\n",
    "\n",
    "        try:\n",
    "            process_image(image_path, output_path)\n",
    "            print(f'Оброблено: {filename}')\n",
    "        except Exception as e:\n",
    "            print(f'Помилка при обробці {filename}: {e}')\n"
   ]
  }
 ],
 "metadata": {
  "colab": {
   "provenance": []
  },
  "kernelspec": {
   "display_name": "Python 3",
   "name": "python3"
  },
  "language_info": {
   "name": "python"
  }
 },
 "nbformat": 4,
 "nbformat_minor": 0
}
