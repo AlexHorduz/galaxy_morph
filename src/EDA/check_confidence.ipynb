{
 "cells": [
  {
   "cell_type": "code",
   "execution_count": 8,
   "metadata": {},
   "outputs": [],
   "source": [
    "import pandas as pd\n",
    "import matplotlib.pyplot as plt"
   ]
  },
  {
   "cell_type": "code",
   "execution_count": 3,
   "metadata": {},
   "outputs": [
    {
     "data": {
      "text/html": [
       "<div>\n",
       "<style scoped>\n",
       "    .dataframe tbody tr th:only-of-type {\n",
       "        vertical-align: middle;\n",
       "    }\n",
       "\n",
       "    .dataframe tbody tr th {\n",
       "        vertical-align: top;\n",
       "    }\n",
       "\n",
       "    .dataframe thead th {\n",
       "        text-align: right;\n",
       "    }\n",
       "</style>\n",
       "<table border=\"1\" class=\"dataframe\">\n",
       "  <thead>\n",
       "    <tr style=\"text-align: right;\">\n",
       "      <th></th>\n",
       "      <th>iauname</th>\n",
       "      <th>smooth</th>\n",
       "      <th>featured</th>\n",
       "      <th>artifact</th>\n",
       "      <th>label</th>\n",
       "    </tr>\n",
       "  </thead>\n",
       "  <tbody>\n",
       "    <tr>\n",
       "      <th>0</th>\n",
       "      <td>J094651.40-010228.5</td>\n",
       "      <td>0.285737</td>\n",
       "      <td>0.682081</td>\n",
       "      <td>0.032182</td>\n",
       "      <td>1</td>\n",
       "    </tr>\n",
       "    <tr>\n",
       "      <th>1</th>\n",
       "      <td>J094630.85-004554.5</td>\n",
       "      <td>0.493212</td>\n",
       "      <td>0.455216</td>\n",
       "      <td>0.051572</td>\n",
       "      <td>0</td>\n",
       "    </tr>\n",
       "    <tr>\n",
       "      <th>2</th>\n",
       "      <td>J094631.59-005917.7</td>\n",
       "      <td>0.899878</td>\n",
       "      <td>0.051691</td>\n",
       "      <td>0.048431</td>\n",
       "      <td>0</td>\n",
       "    </tr>\n",
       "    <tr>\n",
       "      <th>3</th>\n",
       "      <td>J094744.18-004013.4</td>\n",
       "      <td>0.772967</td>\n",
       "      <td>0.099507</td>\n",
       "      <td>0.127526</td>\n",
       "      <td>0</td>\n",
       "    </tr>\n",
       "    <tr>\n",
       "      <th>4</th>\n",
       "      <td>J094751.74-003242.0</td>\n",
       "      <td>0.529303</td>\n",
       "      <td>0.409423</td>\n",
       "      <td>0.061275</td>\n",
       "      <td>0</td>\n",
       "    </tr>\n",
       "  </tbody>\n",
       "</table>\n",
       "</div>"
      ],
      "text/plain": [
       "               iauname    smooth  featured  artifact  label\n",
       "0  J094651.40-010228.5  0.285737  0.682081  0.032182      1\n",
       "1  J094630.85-004554.5  0.493212  0.455216  0.051572      0\n",
       "2  J094631.59-005917.7  0.899878  0.051691  0.048431      0\n",
       "3  J094744.18-004013.4  0.772967  0.099507  0.127526      0\n",
       "4  J094751.74-003242.0  0.529303  0.409423  0.061275      0"
      ]
     },
     "execution_count": 3,
     "metadata": {},
     "output_type": "execute_result"
    }
   ],
   "source": [
    "# Read and process labels file\n",
    "labels = pd.read_csv(\"../../data/gz_decals_auto_posteriors_cropped.csv\")\n",
    "\n",
    "labels = labels[[\n",
    "    \"iauname\", \"smooth-or-featured_smooth_fraction\",\n",
    "    \"smooth-or-featured_featured-or-disk_fraction\", \"smooth-or-featured_artifact_fraction\"\n",
    "]]\n",
    "\n",
    "labels.columns = [\"iauname\", \"smooth\", \"featured\", \"artifact\"]\n",
    "\n",
    "labels[\"label\"] = labels.values[:, 1:].argmax(axis=1)\n",
    "\n",
    "labels.head()"
   ]
  },
  {
   "cell_type": "code",
   "execution_count": 4,
   "metadata": {},
   "outputs": [
    {
     "data": {
      "text/plain": [
       "(962, 5)"
      ]
     },
     "execution_count": 4,
     "metadata": {},
     "output_type": "execute_result"
    }
   ],
   "source": [
    "labels = labels[labels[\"label\"] == 2]\n",
    "labels.shape"
   ]
  },
  {
   "cell_type": "code",
   "execution_count": 5,
   "metadata": {},
   "outputs": [
    {
     "data": {
      "text/html": [
       "<div>\n",
       "<style scoped>\n",
       "    .dataframe tbody tr th:only-of-type {\n",
       "        vertical-align: middle;\n",
       "    }\n",
       "\n",
       "    .dataframe tbody tr th {\n",
       "        vertical-align: top;\n",
       "    }\n",
       "\n",
       "    .dataframe thead th {\n",
       "        text-align: right;\n",
       "    }\n",
       "</style>\n",
       "<table border=\"1\" class=\"dataframe\">\n",
       "  <thead>\n",
       "    <tr style=\"text-align: right;\">\n",
       "      <th></th>\n",
       "      <th>iauname</th>\n",
       "      <th>smooth</th>\n",
       "      <th>featured</th>\n",
       "      <th>artifact</th>\n",
       "      <th>label</th>\n",
       "    </tr>\n",
       "  </thead>\n",
       "  <tbody>\n",
       "    <tr>\n",
       "      <th>78335</th>\n",
       "      <td>J075527.59+234451.0</td>\n",
       "      <td>0.342001</td>\n",
       "      <td>0.315750</td>\n",
       "      <td>0.342249</td>\n",
       "      <td>2</td>\n",
       "    </tr>\n",
       "    <tr>\n",
       "      <th>51917</th>\n",
       "      <td>J075411.25+124233.1</td>\n",
       "      <td>0.336995</td>\n",
       "      <td>0.318026</td>\n",
       "      <td>0.344978</td>\n",
       "      <td>2</td>\n",
       "    </tr>\n",
       "    <tr>\n",
       "      <th>21247</th>\n",
       "      <td>J075924.04+270849.4</td>\n",
       "      <td>0.328409</td>\n",
       "      <td>0.324898</td>\n",
       "      <td>0.346693</td>\n",
       "      <td>2</td>\n",
       "    </tr>\n",
       "    <tr>\n",
       "      <th>75511</th>\n",
       "      <td>J003004.10+033046.9</td>\n",
       "      <td>0.334155</td>\n",
       "      <td>0.317351</td>\n",
       "      <td>0.348494</td>\n",
       "      <td>2</td>\n",
       "    </tr>\n",
       "    <tr>\n",
       "      <th>76595</th>\n",
       "      <td>J012535.90-012546.0</td>\n",
       "      <td>0.325364</td>\n",
       "      <td>0.324192</td>\n",
       "      <td>0.350443</td>\n",
       "      <td>2</td>\n",
       "    </tr>\n",
       "  </tbody>\n",
       "</table>\n",
       "</div>"
      ],
      "text/plain": [
       "                   iauname    smooth  featured  artifact  label\n",
       "78335  J075527.59+234451.0  0.342001  0.315750  0.342249      2\n",
       "51917  J075411.25+124233.1  0.336995  0.318026  0.344978      2\n",
       "21247  J075924.04+270849.4  0.328409  0.324898  0.346693      2\n",
       "75511  J003004.10+033046.9  0.334155  0.317351  0.348494      2\n",
       "76595  J012535.90-012546.0  0.325364  0.324192  0.350443      2"
      ]
     },
     "execution_count": 5,
     "metadata": {},
     "output_type": "execute_result"
    }
   ],
   "source": [
    "labels.sort_values(by=\"artifact\", inplace=True)\n",
    "labels.head()"
   ]
  },
  {
   "cell_type": "code",
   "execution_count": 7,
   "metadata": {},
   "outputs": [
    {
     "data": {
      "text/html": [
       "<div>\n",
       "<style scoped>\n",
       "    .dataframe tbody tr th:only-of-type {\n",
       "        vertical-align: middle;\n",
       "    }\n",
       "\n",
       "    .dataframe tbody tr th {\n",
       "        vertical-align: top;\n",
       "    }\n",
       "\n",
       "    .dataframe thead th {\n",
       "        text-align: right;\n",
       "    }\n",
       "</style>\n",
       "<table border=\"1\" class=\"dataframe\">\n",
       "  <thead>\n",
       "    <tr style=\"text-align: right;\">\n",
       "      <th></th>\n",
       "      <th>iauname</th>\n",
       "      <th>smooth</th>\n",
       "      <th>featured</th>\n",
       "      <th>artifact</th>\n",
       "      <th>label</th>\n",
       "      <th>count</th>\n",
       "    </tr>\n",
       "  </thead>\n",
       "  <tbody>\n",
       "    <tr>\n",
       "      <th>78335</th>\n",
       "      <td>J075527.59+234451.0</td>\n",
       "      <td>0.342001</td>\n",
       "      <td>0.315750</td>\n",
       "      <td>0.342249</td>\n",
       "      <td>2</td>\n",
       "      <td>962</td>\n",
       "    </tr>\n",
       "    <tr>\n",
       "      <th>51917</th>\n",
       "      <td>J075411.25+124233.1</td>\n",
       "      <td>0.336995</td>\n",
       "      <td>0.318026</td>\n",
       "      <td>0.344978</td>\n",
       "      <td>2</td>\n",
       "      <td>961</td>\n",
       "    </tr>\n",
       "    <tr>\n",
       "      <th>21247</th>\n",
       "      <td>J075924.04+270849.4</td>\n",
       "      <td>0.328409</td>\n",
       "      <td>0.324898</td>\n",
       "      <td>0.346693</td>\n",
       "      <td>2</td>\n",
       "      <td>960</td>\n",
       "    </tr>\n",
       "    <tr>\n",
       "      <th>75511</th>\n",
       "      <td>J003004.10+033046.9</td>\n",
       "      <td>0.334155</td>\n",
       "      <td>0.317351</td>\n",
       "      <td>0.348494</td>\n",
       "      <td>2</td>\n",
       "      <td>959</td>\n",
       "    </tr>\n",
       "    <tr>\n",
       "      <th>76595</th>\n",
       "      <td>J012535.90-012546.0</td>\n",
       "      <td>0.325364</td>\n",
       "      <td>0.324192</td>\n",
       "      <td>0.350443</td>\n",
       "      <td>2</td>\n",
       "      <td>958</td>\n",
       "    </tr>\n",
       "  </tbody>\n",
       "</table>\n",
       "</div>"
      ],
      "text/plain": [
       "                   iauname    smooth  featured  artifact  label  count\n",
       "78335  J075527.59+234451.0  0.342001  0.315750  0.342249      2    962\n",
       "51917  J075411.25+124233.1  0.336995  0.318026  0.344978      2    961\n",
       "21247  J075924.04+270849.4  0.328409  0.324898  0.346693      2    960\n",
       "75511  J003004.10+033046.9  0.334155  0.317351  0.348494      2    959\n",
       "76595  J012535.90-012546.0  0.325364  0.324192  0.350443      2    958"
      ]
     },
     "execution_count": 7,
     "metadata": {},
     "output_type": "execute_result"
    }
   ],
   "source": [
    "labels[\"count\"] = list(range(labels.shape[0], 0, -1))\n",
    "labels.head()"
   ]
  },
  {
   "cell_type": "code",
   "execution_count": 11,
   "metadata": {},
   "outputs": [
    {
     "data": {
      "image/png": "[encoded data removed]",
      "text/plain": [
       "<Figure size 640x480 with 1 Axes>"
      ]
     },
     "metadata": {},
     "output_type": "display_data"
    }
   ],
   "source": [
    "plt.plot(\n",
    "    labels[\"artifact\"],\n",
    "    labels[\"count\"]\n",
    ")\n",
    "plt.xlabel(\"Confidence threshold\")\n",
    "plt.ylabel(\"Number of images\")\n",
    "plt.show();"
   ]
  }
 ],
 "metadata": {
  "kernelspec": {
   "display_name": "Python 3",
   "language": "python",
   "name": "python3"
  },
  "language_info": {
   "codemirror_mode": {
    "name": "ipython",
    "version": 3
   },
   "file_extension": ".py",
   "mimetype": "text/x-python",
   "name": "python",
   "nbconvert_exporter": "python",
   "pygments_lexer": "ipython3",
   "version": "3.9.0"
  }
 },
 "nbformat": 4,
 "nbformat_minor": 2
}
